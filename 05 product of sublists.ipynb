{
 "cells": [
  {
   "cell_type": "markdown",
   "metadata": {},
   "source": [
    "You have a two-dimensional list in the following format:\n",
    "data = [[2, 5], [3, 4], [8, 7]]\n",
    "\n",
    "Each sub-list contains two items, and each item in the sub-lists is an integer.\n",
    "\n",
    "Write a function process_data()/processData() that processes each sub-list like so:\n",
    "\n",
    "[2, 5] --> 2 - 5 --> -3\n",
    "[3, 4] --> 3 - 4 --> -1\n",
    "[8, 7] --> 8 - 7 --> 1\n",
    "and then returns the product of all the processed sub-lists: -3 * -1 * 1 --> 3.\n",
    "\n",
    "[[2, 5], [3, 4], [8, 7]]        = 3 \n",
    "[[2, 9], [2, 4], [7, 5]]        = 28\n",
    "[[5, 4], [6, 4]]                = 2\n",
    "[[1, 4], [5, 3]]                = -6\n",
    "[[6, 8], [6, 5], [1, 2]]        = 2\n",
    "[[3, 4], [7, 5], [3, 9], [7, 9]]= -24"
   ]
  },
  {
   "cell_type": "code",
   "execution_count": null,
   "metadata": {},
   "outputs": [],
   "source": [
    "def process_data(data):\n",
    "    product = 1\n",
    "    for i in data:\n",
    "        product *= (i[0] - i[1])\n",
    "    return product\n",
    "\n",
    "print(process_data([[2, 5], [3, 4], [8, 7]])) \n",
    "print(process_data([[2, 9], [2, 4], [7, 5]]))\n",
    "print(process_data([[1, 4], [5, 3]]))\n",
    "print(process_data([[3, 4], [7, 5], [3, 9], [7, 9]]))"
   ]
  },
  {
   "cell_type": "code",
   "execution_count": null,
   "metadata": {},
   "outputs": [],
   "source": [
    "from math import prod\n",
    "\n",
    "def process_data(data):\n",
    "    return prod(i[0] - i[1] for i in data)"
   ]
  }
 ],
 "metadata": {
  "kernelspec": {
   "display_name": "Python 3",
   "language": "python",
   "name": "python3"
  },
  "language_info": {
   "codemirror_mode": {
    "name": "ipython",
    "version": 3
   },
   "file_extension": ".py",
   "mimetype": "text/x-python",
   "name": "python",
   "nbconvert_exporter": "python",
   "pygments_lexer": "ipython3",
   "version": "3.8.10"
  }
 },
 "nbformat": 4,
 "nbformat_minor": 2
}
