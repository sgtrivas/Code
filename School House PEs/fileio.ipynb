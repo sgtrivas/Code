{
 "cells": [
  {
   "cell_type": "code",
   "execution_count": null,
   "metadata": {},
   "outputs": [],
   "source": [
    "#  SLIDE 6\n",
    "#  Open for reading in text mode\n",
    "#  Default - no mode parm required\n",
    "file_ref = open(\"info.txt\")\n",
    "\n",
    "#  Open for reading in text mode\n",
    "file_ref = open(\"info.txt\", \"r\")\n",
    "\n",
    "#  Open for reading in raw mode\n",
    "file_ref = open(\"binarydata.dat\", \"rb\")\n",
    "\n",
    "#  Open for writing in text mode\n",
    "file_ref = open(\"info.txt\", \"w\")\n",
    "\n",
    "#  Open for writing in raw mode\n",
    "file_ref = open(\"binarydata.dat.txt\", \"wb\")\n",
    "\n",
    "#  Open for append in text mode\n",
    "file_ref = open(\"info.txt\", \"a\")\n",
    "\n",
    "#  Open for append in binary mode\n",
    "file_ref = open(\"binarydata,dat\", \"ab\")\n",
    "\n",
    "\n",
    "\n"
   ]
  },
  {
   "cell_type": "code",
   "execution_count": 6,
   "metadata": {},
   "outputs": [
    {
     "name": "stdout",
     "output_type": "stream",
     "text": [
      "a_line = 'This is the winter of our discontent \\n'\n",
      "a_line = 'and where all of good cheer suddenly see the darkness \\n'\n",
      "a_line = 'the never ending chasm, the black abyss \\n'\n",
      "a_line = 'of the unknown and horrifying future\\n'\n",
      "\n",
      "one_line_via_read = 'This is the winter of our discontent \\n'\n"
     ]
    }
   ],
   "source": [
    "#  SLIDE 8\n",
    "#  Have Python AUTOMATICALLY CLOSE THE FILE\n",
    "with open(\"info.txt\") as file_ref:\n",
    "    #  read one line at a time inside a for loop\n",
    "    for a_line in file_ref:\n",
    "        print(f'{a_line = }')\n",
    "# File closed here\n",
    "\n",
    "print()\n",
    "with open(\"info.txt\") as file_ref:\n",
    "    #  read ONLY one line\n",
    "    one_line_via_read = file_ref.readline()\n",
    "    print(f'{one_line_via_read = }')\n",
    "# File closed here"
   ]
  },
  {
   "cell_type": "code",
   "execution_count": 9,
   "metadata": {},
   "outputs": [
    {
     "name": "stdout",
     "output_type": "stream",
     "text": [
      "whole_thing_as_string[0:50] = 'This is the winter of our discontent \\nand where al'\n",
      "<class 'str'>\n",
      "\n",
      "whole_thing_as_list[1] = 'and where all of good cheer suddenly see the darkness \\n'\n",
      "<class 'list'>\n"
     ]
    }
   ],
   "source": [
    "#  SLIDE 9\n",
    "with open(\"info.txt\") as file_ref:\n",
    "    #  read the whole thing as a single string\n",
    "    whole_thing_as_string = file_ref.read()\n",
    "\n",
    "\n",
    "with open(\"info.txt\") as file_ref:\n",
    "    #  each string represents a line of the file\n",
    "    whole_thing_as_list = file_ref.readlines()\n",
    "\n",
    "print(f'{whole_thing_as_string[0:50] = }')\n",
    "print(type(whole_thing_as_string))\n",
    "print ()\n",
    "print(f'{whole_thing_as_list[1] = }') \n",
    "print(type(whole_thing_as_list))"
   ]
  },
  {
   "cell_type": "code",
   "execution_count": 10,
   "metadata": {},
   "outputs": [
    {
     "name": "stdout",
     "output_type": "stream",
     "text": [
      "This is the winter of our discontent \n",
      "\n",
      "the never ending chasm, the black abyss \n",
      "\n",
      "This is the winter of our discontent \n",
      "the never ending chasm, the black abyss \n"
     ]
    }
   ],
   "source": [
    "#  SLIDE 10\n",
    "\n",
    "#  With newline\n",
    "with open(\"info.txt\") as file_ref:\n",
    "    for line in file_ref: \n",
    "        if line[0].upper() == \"T\":\n",
    "            print(line)\n",
    "\n",
    "#  without newline\n",
    "with open(\"info.txt\") as file_ref:\n",
    "    for line in file_ref:\n",
    "        if line[0].upper() == \"T\":\n",
    "            print(line[:-1])"
   ]
  },
  {
   "cell_type": "code",
   "execution_count": 11,
   "metadata": {},
   "outputs": [],
   "source": [
    "#  SLIDE 13\n",
    "#  using file open and file close\n",
    "some_state_data = [(\"California\", 399374489, \"Sacramento\"), \\\n",
    "                   (\"Texas\", 29472295, \"Austin\"), (\"Florida\", 21992985, \"Tallahassee\"), \\\n",
    "                    (\"New York\", 19440468, \"Albany\"), (\"Pennsylvania\", 12820878, \"Harrisburg\")]\n",
    "\n",
    "file = open(\"some_state_data.txt\", \"w\" )\n",
    "for state_name, state_pop, state_cap in some_state_data:\n",
    "    file.write(f'{state_name},{state_pop},{state_cap}\\n')\n",
    "file.close()"
   ]
  },
  {
   "cell_type": "code",
   "execution_count": 12,
   "metadata": {},
   "outputs": [],
   "source": [
    "#  SLIDE 14\n",
    "\n",
    "def copy_files(read_from, write_to):\n",
    "    with open(read_from) as rf, open(write_to, \"w\") as wt:\n",
    "        for data in rf:\n",
    "            wt.write(data)\n",
    "\n",
    "read_from = \"some_state_data.txt\"\n",
    "write_to = \"new_some_state_data.txt\"\n",
    "\n",
    "\n",
    "copy_files(read_from,write_to)\n",
    "\n"
   ]
  },
  {
   "cell_type": "code",
   "execution_count": 14,
   "metadata": {},
   "outputs": [
    {
     "name": "stdout",
     "output_type": "stream",
     "text": [
      "109847490202928\n",
      "\n",
      "\n",
      "7490202928\n",
      "\n",
      "\n",
      "Hello7490202928\n",
      "\n",
      "\n",
      "17\n"
     ]
    }
   ],
   "source": [
    "#  SLIDE 15\n",
    "with open(\"Data.txt\", \"r+\") as file_ref:\n",
    "    print(file_ref.read())   \n",
    "    \n",
    "    # Move the pointer to position 5 (6th character)\n",
    "    file_ref.seek(5)         \n",
    "    print(file_ref.read())   \n",
    "    #Move the pointer back to the beginning of the file\n",
    "    file_ref.seek(0)   \n",
    "\n",
    "    # Replace the first 5 characters with \"Hello\"  \n",
    "    file_ref.write(\"Hello\")  \n",
    "    \n",
    "    # Move the pointer back to the beginning of the file\n",
    "    file_ref.seek(0)         \n",
    "    \n",
    "    print(file_ref.read())  \n",
    " \n",
    " #current read/write position\n",
    "    print(file_ref.tell())  "
   ]
  },
  {
   "cell_type": "code",
   "execution_count": 15,
   "metadata": {},
   "outputs": [
    {
     "ename": "FileNotFoundError",
     "evalue": "[Errno 2] No such file or directory: 'passwords.txt'",
     "output_type": "error",
     "traceback": [
      "\u001b[0;31m---------------------------------------------------------------------------\u001b[0m",
      "\u001b[0;31mFileNotFoundError\u001b[0m                         Traceback (most recent call last)",
      "\u001b[1;32m/home/nestor.a.rivas78/Desktop/Python/fileio.ipynb Cell 8\u001b[0m line \u001b[0;36m1\n\u001b[0;32m----> <a href='vscode-notebook-cell:/home/nestor.a.rivas78/Desktop/Python/fileio.ipynb#X10sZmlsZQ%3D%3D?line=0'>1</a>\u001b[0m \u001b[39mwith\u001b[39;00m \u001b[39mopen\u001b[39;49m(\u001b[39m\"\u001b[39;49m\u001b[39mpasswords.txt\u001b[39;49m\u001b[39m\"\u001b[39;49m, \u001b[39m\"\u001b[39;49m\u001b[39mr\u001b[39;49m\u001b[39m\"\u001b[39;49m) \u001b[39mas\u001b[39;00m pass_file:\n\u001b[1;32m      <a href='vscode-notebook-cell:/home/nestor.a.rivas78/Desktop/Python/fileio.ipynb#X10sZmlsZQ%3D%3D?line=1'>2</a>\u001b[0m     \u001b[39mfor\u001b[39;00m item \u001b[39min\u001b[39;00m pass_file:\n\u001b[1;32m      <a href='vscode-notebook-cell:/home/nestor.a.rivas78/Desktop/Python/fileio.ipynb#X10sZmlsZQ%3D%3D?line=2'>3</a>\u001b[0m         \u001b[39mprint\u001b[39m(item\u001b[39m.\u001b[39mreadlines())\n",
      "File \u001b[0;32m~/.local/lib/python3.8/site-packages/IPython/core/interactiveshell.py:284\u001b[0m, in \u001b[0;36m_modified_open\u001b[0;34m(file, *args, **kwargs)\u001b[0m\n\u001b[1;32m    277\u001b[0m \u001b[39mif\u001b[39;00m file \u001b[39min\u001b[39;00m {\u001b[39m0\u001b[39m, \u001b[39m1\u001b[39m, \u001b[39m2\u001b[39m}:\n\u001b[1;32m    278\u001b[0m     \u001b[39mraise\u001b[39;00m \u001b[39mValueError\u001b[39;00m(\n\u001b[1;32m    279\u001b[0m         \u001b[39mf\u001b[39m\u001b[39m\"\u001b[39m\u001b[39mIPython won\u001b[39m\u001b[39m'\u001b[39m\u001b[39mt let you open fd=\u001b[39m\u001b[39m{\u001b[39;00mfile\u001b[39m}\u001b[39;00m\u001b[39m by default \u001b[39m\u001b[39m\"\u001b[39m\n\u001b[1;32m    280\u001b[0m         \u001b[39m\"\u001b[39m\u001b[39mas it is likely to crash IPython. If you know what you are doing, \u001b[39m\u001b[39m\"\u001b[39m\n\u001b[1;32m    281\u001b[0m         \u001b[39m\"\u001b[39m\u001b[39myou can use builtins\u001b[39m\u001b[39m'\u001b[39m\u001b[39m open.\u001b[39m\u001b[39m\"\u001b[39m\n\u001b[1;32m    282\u001b[0m     )\n\u001b[0;32m--> 284\u001b[0m \u001b[39mreturn\u001b[39;00m io_open(file, \u001b[39m*\u001b[39;49margs, \u001b[39m*\u001b[39;49m\u001b[39m*\u001b[39;49mkwargs)\n",
      "\u001b[0;31mFileNotFoundError\u001b[0m: [Errno 2] No such file or directory: 'passwords.txt'"
     ]
    }
   ],
   "source": [
    "with open(\"passwords.txt\", \"r\") as pass_file:\n",
    "    for item in pass_file:\n",
    "        print(item.readlines())"
   ]
  }
 ],
 "metadata": {
  "kernelspec": {
   "display_name": "Python 3",
   "language": "python",
   "name": "python3"
  },
  "language_info": {
   "codemirror_mode": {
    "name": "ipython",
    "version": 3
   },
   "file_extension": ".py",
   "mimetype": "text/x-python",
   "name": "python",
   "nbconvert_exporter": "python",
   "pygments_lexer": "ipython3",
   "version": "3.8.10"
  }
 },
 "nbformat": 4,
 "nbformat_minor": 2
}
