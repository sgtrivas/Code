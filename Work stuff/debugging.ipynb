{
 "cells": [
  {
   "cell_type": "code",
   "execution_count": 1,
   "metadata": {},
   "outputs": [
    {
     "name": "stdout",
     "output_type": "stream",
     "text": [
      "Cannot divide by zero!\n",
      "this is a finally block!\n"
     ]
    }
   ],
   "source": [
    "#  Simple try and except example\n",
    "try:\n",
    "  x = 1/0\n",
    "except:\n",
    "   print(\"Cannot divide by zero\")\n",
    "else:\n",
    "   print(x)\n",
    "finally:\n",
    "   print(\"this is a finally block!\")\n"
   ]
  },
  {
   "cell_type": "code",
   "execution_count": 1,
   "metadata": {},
   "outputs": [
    {
     "ename": "Exception",
     "evalue": "Number needs to be above 0",
     "output_type": "error",
     "traceback": [
      "\u001b[1;31m---------------------------------------------------------------------------\u001b[0m",
      "\u001b[1;31mException\u001b[0m                                 Traceback (most recent call last)",
      "\u001b[1;32mc:\\Users\\ssgnr\\Documents\\Python\\debugging.ipynb Cell 2\u001b[0m line \u001b[0;36m7\n\u001b[0;32m      <a href='vscode-notebook-cell:/c%3A/Users/ssgnr/Documents/Python/debugging.ipynb#W1sZmlsZQ%3D%3D?line=3'>4</a>\u001b[0m    \u001b[39melse\u001b[39;00m:\n\u001b[0;32m      <a href='vscode-notebook-cell:/c%3A/Users/ssgnr/Documents/Python/debugging.ipynb#W1sZmlsZQ%3D%3D?line=4'>5</a>\u001b[0m        \u001b[39mprint\u001b[39m(\u001b[39m\"\u001b[39m\u001b[39mNumber is not negative\u001b[39m\u001b[39m\"\u001b[39m)\n\u001b[1;32m----> <a href='vscode-notebook-cell:/c%3A/Users/ssgnr/Documents/Python/debugging.ipynb#W1sZmlsZQ%3D%3D?line=6'>7</a>\u001b[0m fun(\u001b[39m-\u001b[39;49m\u001b[39m5\u001b[39;49m)\n",
      "\u001b[1;32mc:\\Users\\ssgnr\\Documents\\Python\\debugging.ipynb Cell 2\u001b[0m line \u001b[0;36m3\n\u001b[0;32m      <a href='vscode-notebook-cell:/c%3A/Users/ssgnr/Documents/Python/debugging.ipynb#W1sZmlsZQ%3D%3D?line=0'>1</a>\u001b[0m \u001b[39mdef\u001b[39;00m \u001b[39mfun\u001b[39m(num):\n\u001b[0;32m      <a href='vscode-notebook-cell:/c%3A/Users/ssgnr/Documents/Python/debugging.ipynb#W1sZmlsZQ%3D%3D?line=1'>2</a>\u001b[0m    \u001b[39mif\u001b[39;00m num \u001b[39m<\u001b[39m \u001b[39m-\u001b[39m\u001b[39m1\u001b[39m:\n\u001b[1;32m----> <a href='vscode-notebook-cell:/c%3A/Users/ssgnr/Documents/Python/debugging.ipynb#W1sZmlsZQ%3D%3D?line=2'>3</a>\u001b[0m        \u001b[39mraise\u001b[39;00m \u001b[39mException\u001b[39;00m(\u001b[39m\"\u001b[39m\u001b[39mNumber needs to be above 0\u001b[39m\u001b[39m\"\u001b[39m)\n\u001b[0;32m      <a href='vscode-notebook-cell:/c%3A/Users/ssgnr/Documents/Python/debugging.ipynb#W1sZmlsZQ%3D%3D?line=3'>4</a>\u001b[0m    \u001b[39melse\u001b[39;00m:\n\u001b[0;32m      <a href='vscode-notebook-cell:/c%3A/Users/ssgnr/Documents/Python/debugging.ipynb#W1sZmlsZQ%3D%3D?line=4'>5</a>\u001b[0m        \u001b[39mprint\u001b[39m(\u001b[39m\"\u001b[39m\u001b[39mNumber is not negative\u001b[39m\u001b[39m\"\u001b[39m)\n",
      "\u001b[1;31mException\u001b[0m: Number needs to be above 0"
     ]
    }
   ],
   "source": [
    "def fun(num):\n",
    "   if num < -1:\n",
    "       raise Exception(\"Number needs to be above 0\")\n",
    "   else:\n",
    "       print(\"Number is not negative\")\n",
    "\n",
    "fun(-5)\n"
   ]
  },
  {
   "cell_type": "code",
   "execution_count": 3,
   "metadata": {},
   "outputs": [
    {
     "ename": "AssertionError",
     "evalue": "Number needs to be -5",
     "output_type": "error",
     "traceback": [
      "\u001b[1;31m---------------------------------------------------------------------------\u001b[0m",
      "\u001b[1;31mAssertionError\u001b[0m                            Traceback (most recent call last)",
      "\u001b[1;32mUntitled-1.ipynb Cell 3\u001b[0m line \u001b[0;36m5\n\u001b[0;32m      <a href='vscode-notebook-cell:Untitled-1.ipynb?jupyter-notebook#W2sdW50aXRsZWQ%3D?line=1'>2</a>\u001b[0m \u001b[39massert\u001b[39;00m num \u001b[39m==\u001b[39m \u001b[39m-\u001b[39m\u001b[39m5\u001b[39m, \u001b[39m\"\u001b[39m\u001b[39mNumber needs to be -5\u001b[39m\u001b[39m\"\u001b[39m\n\u001b[0;32m      <a href='vscode-notebook-cell:Untitled-1.ipynb?jupyter-notebook#W2sdW50aXRsZWQ%3D?line=3'>4</a>\u001b[0m num \u001b[39m=\u001b[39m \u001b[39m5\u001b[39m\n\u001b[1;32m----> <a href='vscode-notebook-cell:Untitled-1.ipynb?jupyter-notebook#W2sdW50aXRsZWQ%3D?line=4'>5</a>\u001b[0m \u001b[39massert\u001b[39;00m num \u001b[39m==\u001b[39m \u001b[39m-\u001b[39m\u001b[39m5\u001b[39m, \u001b[39m\"\u001b[39m\u001b[39mNumber needs to be -5\u001b[39m\u001b[39m\"\u001b[39m\n",
      "\u001b[1;31mAssertionError\u001b[0m: Number needs to be -5"
     ]
    }
   ],
   "source": [
    "num = -5\n",
    "assert num == -5, \"Number needs to be -5\"\n",
    "\n",
    "num = 5\n",
    "assert num == -5, \"Number needs to be -5\"\n",
    "\n"
   ]
  },
  {
   "cell_type": "code",
   "execution_count": 6,
   "metadata": {},
   "outputs": [
    {
     "name": "stderr",
     "output_type": "stream",
     "text": [
      " 2023-12-07 18:40:55,992 - DEBUG - debug\n",
      " 2023-12-07 18:40:55,993 - INFO - info\n",
      " 2023-12-07 18:40:55,993 - WARNING - warning\n",
      " 2023-12-07 18:40:55,993 - ERROR - error\n",
      " 2023-12-07 18:40:55,994 - CRITICAL - critical\n"
     ]
    }
   ],
   "source": [
    "import logging\n",
    "\n",
    "logging.debug('debug')\n",
    "logging.info('info')\n",
    "logging.warning('warning')\n",
    "logging.error('error')\n",
    "logging.critical('critical')\n"
   ]
  },
  {
   "cell_type": "code",
   "execution_count": null,
   "metadata": {},
   "outputs": [],
   "source": [
    "import logging\n",
    "\n",
    "logging.basicConfig(level=logging.DEBUG, format=' %(asctime)s - %(levelname)s - %(message)s')\n",
    "\n"
   ]
  },
  {
   "cell_type": "code",
   "execution_count": 2,
   "metadata": {},
   "outputs": [
    {
     "name": "stderr",
     "output_type": "stream",
     "text": [
      " 2023-12-07 19:13:44,347 - DEBUG - About to enter function\n",
      " 2023-12-07 19:13:44,347 - DEBUG - i is: 1\n",
      " 2023-12-07 19:13:44,348 - DEBUG - i is: 2\n",
      " 2023-12-07 19:13:44,348 - DEBUG - i is: 3\n",
      " 2023-12-07 19:13:44,348 - DEBUG - i is: 4\n",
      " 2023-12-07 19:13:44,348 - DEBUG - i is: 5\n",
      " 2023-12-07 19:13:44,348 - DEBUG - i is: 6\n",
      " 2023-12-07 19:13:44,349 - DEBUG - i is: 7\n",
      " 2023-12-07 19:13:44,349 - DEBUG - i is: 8\n",
      " 2023-12-07 19:13:44,349 - DEBUG - i is: 9\n",
      " 2023-12-07 19:13:44,349 - DEBUG - i is: 10\n",
      " 2023-12-07 19:13:44,349 - DEBUG - End of function\n"
     ]
    }
   ],
   "source": [
    "import logging\n",
    "\n",
    "logging.basicConfig(level=logging.DEBUG, format=' %(asctime)s - %(levelname)s - %(message)s')\n",
    "\n",
    "logging.debug(\"About to enter function\")\n",
    "def fun():\n",
    "   for i in range(1,11):\n",
    "       logging.debug(f\"i is: {i}\")\n",
    "fun()\n",
    "logging.debug(f\"End of function \\n\")\n"
   ]
  },
  {
   "cell_type": "code",
   "execution_count": 3,
   "metadata": {},
   "outputs": [
    {
     "name": "stderr",
     "output_type": "stream",
     "text": [
      " 2023-12-07 19:14:36,954 - WARNING - About to enter function\n",
      " 2023-12-07 19:14:36,954 - WARNING - i is: 1\n",
      " 2023-12-07 19:14:36,954 - WARNING - i is: 2\n",
      " 2023-12-07 19:14:36,954 - WARNING - i is: 3\n",
      " 2023-12-07 19:14:36,955 - WARNING - i is: 4\n",
      " 2023-12-07 19:14:36,955 - WARNING - i is: 5\n",
      " 2023-12-07 19:14:36,956 - WARNING - i is: 6\n",
      " 2023-12-07 19:14:36,956 - WARNING - i is: 7\n",
      " 2023-12-07 19:14:36,956 - WARNING - i is: 8\n",
      " 2023-12-07 19:14:36,957 - WARNING - i is: 9\n",
      " 2023-12-07 19:14:36,957 - WARNING - i is: 10\n",
      " 2023-12-07 19:14:36,957 - WARNING - End of function\n",
      "\n"
     ]
    },
    {
     "name": "stdout",
     "output_type": "stream",
     "text": [
      "\n"
     ]
    }
   ],
   "source": [
    "import logging\n",
    "\n",
    "logging.basicConfig(filename=\"logs.txt\", filemode='a', format=' %(asctime)s - %(levelname)s - %(message)s')\n",
    "print()\n",
    "\n",
    "logging.warning(\"About to enter function\")\n",
    "def fun():\n",
    "   for i in range(1,11):\n",
    "       logging.warning(f\"i is: {i}\")\n",
    "\n",
    "\n",
    "fun()\n",
    "logging.warning(f\"End of function\\n\")\n"
   ]
  },
  {
   "cell_type": "code",
   "execution_count": 8,
   "metadata": {},
   "outputs": [
    {
     "name": "stderr",
     "output_type": "stream",
     "text": [
      " 2023-12-07 19:21:11,553 - ERROR - ZeroDivisionError\n",
      "Traceback (most recent call last):\n",
      "  File \"C:\\Users\\ssgnr\\AppData\\Local\\Temp\\ipykernel_50948\\2854076991.py\", line 6, in <module>\n",
      "    x = 1/0\n",
      "        ~^~\n",
      "ZeroDivisionError: division by zero\n"
     ]
    },
    {
     "name": "stdout",
     "output_type": "stream",
     "text": [
      "this is a finally block!\n"
     ]
    }
   ],
   "source": [
    "import logging\n",
    "# logging.basicConfig(level=logging.INFO, format=\"%(asctime)s - %(levelname)s - %(message)s\")\n",
    "logging.basicConfig(filename=\"logs.txt\", filemode='a', format=' %(asctime)s - %(levelname)s - %(message)s')\n",
    "\n",
    "try:\n",
    "  x = 1/0\n",
    "except:\n",
    "     #  2 ways to log an exception:\n",
    "     logging.error(\"ZeroDivisionError\", exc_info=True)\n",
    "   #   logging.exception(\"ZeroDivisionError\")\n",
    "else:\n",
    "   print(x)\n",
    "finally:\n",
    "   print(\"this is a finally block!\")"
   ]
  },
  {
   "cell_type": "code",
   "execution_count": 9,
   "metadata": {},
   "outputs": [
    {
     "name": "stderr",
     "output_type": "stream",
     "text": [
      " 2023-12-07 19:30:14,271 - INFO - test the custom logger\n"
     ]
    }
   ],
   "source": [
    "import logging\n",
    "#  logging.basicConfig(level=logging.INFO, format=\"%(asctime)s - %(levelname)s - %(message)s\")\n",
    "logging.basicConfig(level=logging.INFO, filename=\"logs.txt\", filemode='a', format=' %(asctime)s - %(levelname)s - %(message)s')\n",
    "\n",
    "#  builing our own logger to use with different python modules\n",
    "logger = logging.getLogger(__name__)\n",
    "\n",
    "#  creating a file handler to handle files to our logger. this creates a handler and the file we want to pass our logs to.\n",
    "handler = logging.FileHandler('testlogs.txt')\n",
    "\n",
    "#  creating our formatter to format our logs which will be passed to our logger \n",
    "formatter = logging.Formatter('%(asctime)s - %(name)s - %(levelname)s - %(message)s')\n",
    "handler.setFormatter(formatter)\n",
    "\n",
    "#  lastly we add out handler to our logger\n",
    "logger.addHandler(handler)\n",
    "\n",
    "logger.info(\"test the custom logger\")"
   ]
  }
 ],
 "metadata": {
  "kernelspec": {
   "display_name": "Python 3",
   "language": "python",
   "name": "python3"
  },
  "language_info": {
   "codemirror_mode": {
    "name": "ipython",
    "version": 3
   },
   "file_extension": ".py",
   "mimetype": "text/x-python",
   "name": "python",
   "nbconvert_exporter": "python",
   "pygments_lexer": "ipython3",
   "version": "3.11.8"
  }
 },
 "nbformat": 4,
 "nbformat_minor": 2
}
