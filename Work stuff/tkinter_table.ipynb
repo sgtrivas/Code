{
 "cells": [
  {
   "cell_type": "code",
   "execution_count": 1,
   "metadata": {},
   "outputs": [],
   "source": [
    "from tkinter import *\n",
    " \n",
    " \n",
    "class Table:\n",
    "     \n",
    "    def __init__(self,root):\n",
    "         \n",
    "        # code for creating table\n",
    "        for i in range(total_rows):\n",
    "            for j in range(total_columns):\n",
    "\n",
    "                \n",
    "                self.e = Entry(root, width=20,\n",
    "                               font=('Arial',16,'bold'))\n",
    "                 \n",
    "                self.e.grid(row=i, column=j)\n",
    "                self.e.insert(END, lst[i][j])\n",
    " \n",
    "# take the data\n",
    "status = 'go'\n",
    "number = 15163032444\n",
    "imei = 'asdlkj;ajsgdf'\n",
    "other = '*'\n",
    "\n",
    "\n",
    "lst = [('STATUS','NUMBER','IMEI','*'),\n",
    "       (status,number,imei,other),\n",
    "      ]\n",
    "  \n",
    "# find total number of rows and\n",
    "# columns in list\n",
    "total_rows = len(lst)\n",
    "total_columns = len(lst[0])\n",
    "\n",
    "# create root window\n",
    "root = Tk()\n",
    "t = Table(root)\n",
    "root.mainloop()"
   ]
  },
  {
   "cell_type": "code",
   "execution_count": null,
   "metadata": {},
   "outputs": [],
   "source": []
  }
 ],
 "metadata": {
  "kernelspec": {
   "display_name": "Python 3",
   "language": "python",
   "name": "python3"
  },
  "language_info": {
   "codemirror_mode": {
    "name": "ipython",
    "version": 3
   },
   "file_extension": ".py",
   "mimetype": "text/x-python",
   "name": "python",
   "nbconvert_exporter": "python",
   "pygments_lexer": "ipython3",
   "version": "3.11.9"
  }
 },
 "nbformat": 4,
 "nbformat_minor": 2
}
