{
 "cells": [
  {
   "cell_type": "code",
   "execution_count": 1,
   "metadata": {},
   "outputs": [
    {
     "name": "stdout",
     "output_type": "stream",
     "text": [
      "<__main__.AccountCreation object at 0x00000157CD3C4510>:  <class '__main__.AccountCreation'>\n",
      "<__main__.AccountCreation object at 0x00000157CD3C4AD0>:  <class '__main__.AccountCreation'>\n"
     ]
    }
   ],
   "source": [
    "#  classes are declared with the 'class' keyword and a name. the class name should start with a capital letter.\n",
    "class AccountCreation:\n",
    "    pass\n",
    "\n",
    "def main():\n",
    "    my_account = AccountCreation()\n",
    "    your_account = AccountCreation()\n",
    "    print(f'{my_account}: ',f'{type(my_account)}')\n",
    "    print(f'{your_account}: ',f'{type(your_account)}')\n",
    "\n",
    "if __name__=='__main__':\n",
    "    main()\n",
    "\n",
    "    "
   ]
  },
  {
   "cell_type": "code",
   "execution_count": 2,
   "metadata": {},
   "outputs": [
    {
     "name": "stdout",
     "output_type": "stream",
     "text": [
      "new_account = <__main__.Account object at 0x00000157CD3D8250>:  <class '__main__.Account'>\n"
     ]
    }
   ],
   "source": [
    "class Account:\n",
    "    def __init__(self, email, username, password): #  \n",
    "        self.email = email\n",
    "        self.username = username\n",
    "        self.password = password\n",
    "\n",
    "def main():\n",
    "    new_account = Account(\"email@email.com\", \"username\", \"password\")\n",
    "    print(f'{new_account = }: ',f'{type(new_account)}')\n",
    "\n",
    "if __name__=='__main__':\n",
    "    main()       "
   ]
  },
  {
   "cell_type": "markdown",
   "metadata": {},
   "source": [
    "    To describe a physical object in our everyday world, we often reference its\n",
    "attributes. When talking about a desk, you might describe its color, dimensions,\n",
    "weight, material, and so on. Some objects have attributes that apply\n",
    "only to them and not others. A car could be described by its number of\n",
    "doors, but a shirt could not. A box could be sealed or open, empty or full,\n",
    "but those characteristics would not apply to a block of wood. Additionally,\n",
    "some objects are capable of performing actions. A car can go forward, back\n",
    "up, and turn left or right.\n",
    "\n",
    "    To model a real-world object in code, we need to decide what data will\n",
    "represent that object’s attributes and what operations it can perform. These\n",
    "two concepts are often referred to as an object’s state and behavior, respectively:\n",
    "the state is the data that the object remembers, and the behaviors are\n",
    "the actions that the object can do."
   ]
  },
  {
   "cell_type": "code",
   "execution_count": 3,
   "metadata": {},
   "outputs": [
    {
     "name": "stdout",
     "output_type": "stream",
     "text": [
      "False\n",
      "True\n",
      "False\n",
      "True\n"
     ]
    }
   ],
   "source": [
    "#  Procedural light switch to demonstrate state and behavior\n",
    "\n",
    "def turnOn(): #  this is the switches state the position is 'ON'\n",
    "    global switchIsOn\n",
    "    #  turn the light on\n",
    "    switchIsOn = True\n",
    "\n",
    "\n",
    "def turnOff(): #  this is the switches state the position is 'OFF'\n",
    "    global switchIsOn\n",
    "    #  turn the light off\n",
    "    switchIsOn = False\n",
    "\n",
    "switchIsOn = False\n",
    "\n",
    "\n",
    "print(switchIsOn)\n",
    "turnOn()\n",
    "print(switchIsOn)\n",
    "turnOff()\n",
    "print(switchIsOn)\n",
    "turnOn()\n",
    "print(switchIsOn)\n",
    "\n"
   ]
  },
  {
   "cell_type": "code",
   "execution_count": 6,
   "metadata": {},
   "outputs": [
    {
     "name": "stdout",
     "output_type": "stream",
     "text": [
      "<bound method LightSwitch.turnOn of <__main__.LightSwitch object at 0x00000157CD39AB90>>\n"
     ]
    }
   ],
   "source": [
    "# OO_version of lightswitch\n",
    "\n",
    "class LightSwitch():\n",
    "    def __init__(self):\n",
    "        self.switchIsOn = False\n",
    "    \n",
    "    def turnOn(self):\n",
    "        self.switchIsOn = True\n",
    "    \n",
    "    def turnOff(self):\n",
    "        self.switchIsOn = False\n",
    "\n",
    "\n",
    "oLightSwitch = LightSwitch() #  lowercase 'o' denotes an \n",
    "                             #  object to remind us that we are working with an object created from a class\n",
    "\n",
    "print(oLightSwitch)\n",
    "\n"
   ]
  },
  {
   "cell_type": "markdown",
   "metadata": {},
   "source": [
    "class <ClassName>(): #  naming convention recommended is CamelCase. Parentheses are optional!\n",
    "\n",
    "The first method in every class should have the special name __init__.\n",
    "Whenever you create an object from a class, this method will run automatically.\n",
    "Therefore, this method is the logical place to put any initialization\n",
    "code that you want to run whenever you instantiate an object from a class.\n",
    "\n",
    "[method =  A function defined inside a class. A method always has at least one parameter,\n",
    "which is usually named self.]\n",
    "\n",
    "The name __init__ is reserved by Python for this very task, and it must be\n",
    "written exactly this way, with two underscores before and after the word init\n",
    "(which must be lowercase). In reality, the __init__() method is not strictly\n",
    "required. However, it’s generally considered good practice to include it and\n",
    "use it for initialization.\n",
    "\n",
    "    def __init__(self, <optional param1>, ..., <optional paramN>): \n",
    "        # any initialization code here\n",
    "\n",
    "\n",
    "# Any number of functions that access the data\n",
    "# Each has the form:\n",
    "\n",
    "\n",
    "    def <functionName1>(self, <optional param1>, ..., <optional paramN>):\n",
    "    # body of function or method\n",
    "# ... more functions\n",
    "\n",
    "\n",
    "    def <functionNameN>(self, <optional param1>, ..., <optional paramN>):\n",
    "    # body of function or method"
   ]
  },
  {
   "cell_type": "markdown",
   "metadata": {},
   "source": [
    "NOTE When you instantiate an object from a class, Python takes care of constructing the\n",
    "object (allocating memory) for you. The special __init__() method is called the “initializer”\n",
    "method, where you give variables initial values. (Most other OOP languages\n",
    "require a method named new(), which is often referred to as a constructor.)"
   ]
  },
  {
   "cell_type": "code",
   "execution_count": null,
   "metadata": {},
   "outputs": [],
   "source": [
    "class <ClassName>():\n",
    "    def __init__(self, <optional param1>, ..., <optional paramN>):\n",
    "        # any initialization code here\n",
    "# Any number of functions that access the data\n",
    "# Each has the form:\n",
    "    def <functionName1>(self, <optional param1>, ..., <optional paramN>):\n",
    "        # body of function\n",
    "# ... more functions\n",
    "    def <functionNameN>(self, <optional param1>, ..., <optional paramN>):"
   ]
  },
  {
   "cell_type": "code",
   "execution_count": 1,
   "metadata": {},
   "outputs": [
    {
     "name": "stdout",
     "output_type": "stream",
     "text": [
      "<class 'str'>\n"
     ]
    }
   ],
   "source": [
    "myString = 'abcde'\n",
    "print(type(myString))"
   ]
  },
  {
   "cell_type": "code",
   "execution_count": 2,
   "metadata": {},
   "outputs": [
    {
     "name": "stdout",
     "output_type": "stream",
     "text": [
      "<class 'list'>\n"
     ]
    }
   ],
   "source": [
    "myList = [10, 20, 30, 40]\n",
    "print(type(myList))\n"
   ]
  },
  {
   "cell_type": "code",
   "execution_count": 10,
   "metadata": {},
   "outputs": [
    {
     "name": "stdout",
     "output_type": "stream",
     "text": [
      "Switch is on?  True\n",
      "Brightness is:  5\n",
      "Switch is on?  False\n",
      "Brightness is:  3\n",
      "Switch is on?  True\n",
      "Brightness is:  6\n"
     ]
    }
   ],
   "source": [
    "#  DimmerSwitch Class\n",
    "class DimmerSwitch():\n",
    "    #  __init__ has a new instance called self.brightness\n",
    "    def __init__(self):\n",
    "        self.switchOn = False\n",
    "        self.brightness = 0\n",
    "        \n",
    "    def turnOn(self):\n",
    "        self.switchOn = True\n",
    "\n",
    "    def turnOff(self):\n",
    "        self.switchOn = False\n",
    "    #  new method to raise the brightness\n",
    "    def raiseLevel(self):\n",
    "        if self.brightness < 10:\n",
    "            self.brightness = self.brightness + 1\n",
    "    #  new method to lower the brightness\n",
    "    def lowerLevel(self):\n",
    "        if self.brightness > 0:\n",
    "            self.brightness = self.brightness - 1\n",
    "\n",
    "    def show(self):\n",
    "        print(\"Switch is on? \", self.switchOn)\n",
    "        print(\"Brightness is: \", self.brightness)\n",
    "        \n",
    "\n",
    "oDimmer = DimmerSwitch()\n",
    "\n",
    "oDimmer.turnOn()\n",
    "oDimmer.raiseLevel()\n",
    "oDimmer.raiseLevel()\n",
    "oDimmer.raiseLevel()\n",
    "oDimmer.raiseLevel()\n",
    "oDimmer.raiseLevel()\n",
    "oDimmer.show()\n",
    "\n",
    "oDimmer.lowerLevel()\n",
    "oDimmer.lowerLevel()\n",
    "oDimmer.turnOff()\n",
    "oDimmer.show()\n",
    "\n",
    "oDimmer.turnOn()\n",
    "oDimmer.raiseLevel()\n",
    "oDimmer.raiseLevel()\n",
    "oDimmer.raiseLevel()\n",
    "oDimmer.show()\n",
    "\n"
   ]
  },
  {
   "cell_type": "code",
   "execution_count": 18,
   "metadata": {},
   "outputs": [
    {
     "name": "stdout",
     "output_type": "stream",
     "text": [
      "\n",
      "TV Status:\n",
      "     TV is: On\n",
      "      Channel is: 65\n",
      "     Volume is: 5\n"
     ]
    }
   ],
   "source": [
    "class TV():\n",
    "    def __init__(self):\n",
    "        self.isOn = False\n",
    "        self.isMuted = False\n",
    "        self.channelList = [2,4,5,7,9,11,20,36,44,54,65]\n",
    "        self.nChannels = len(self.channelList)\n",
    "        self.channelIndex = 0\n",
    "        self.VOLUME_MINIMUM = 0  #  constant\n",
    "        self.VOLUME_MAXIMUM = 10 #  constant\n",
    "        self.volume = self.VOLUME_MAXIMUM // 2 #  integer divide\n",
    "\n",
    "    def power(self):\n",
    "        self.isOn = not self.isOn\n",
    "\n",
    "    def volumeUp(self):\n",
    "        if not self.isOn:\n",
    "            return\n",
    "        if self.isMuted:\n",
    "            self.isMuted = False\n",
    "        if self.volume < self.VOLUME_MAXIMUM:\n",
    "            self.volume = self.volume + 1\n",
    "\n",
    "    def volumeDown(self):\n",
    "        if not self.isOn:\n",
    "            return\n",
    "        if self.isMuted:\n",
    "            self.isMuted = False\n",
    "        if self.volume > self.VOLUME_MINIMUM:\n",
    "            self.volume = self.volume - 1\n",
    "\n",
    "    def channelUp(self):\n",
    "        if not self.isOn:\n",
    "            return\n",
    "        self.channelIndex = self.channelIndex + 1\n",
    "        if self.channelIndex > self.nChannels:\n",
    "            self.channelIndex = 0\n",
    "\n",
    "    def channelDown(self):\n",
    "        if not self.isOn:\n",
    "            return\n",
    "        self.channelIndex = self.channelIndex - 1\n",
    "        if self.channelIndex < 0:\n",
    "            self.channelIndex = self.nChannels - 1\n",
    "\n",
    "    def mute(self):\n",
    "        if not self.isOn:\n",
    "            return\n",
    "        self.isMuted = not self.isMuted\n",
    "\n",
    "    def setChannel(self, newChannel):\n",
    "        if newChannel in self.channelList:\n",
    "            self.channelIndex = self.channelList.index(newChannel)\n",
    "        else:\n",
    "            print(f'Channel {newChannel} is not found')\n",
    "       \n",
    "            \n",
    "    def showInfo(self):\n",
    "        print()\n",
    "        print('TV Status:')\n",
    "        if self.isOn:\n",
    "            print('     TV is: On')\n",
    "            print('      Channel is:',self.channelList[self.channelIndex])\n",
    "            if self.isMuted:\n",
    "                print('     Volume is:', self.volume, '(sound is muted)')\n",
    "            else:\n",
    "                print('     Volume is:', self.volume)\n",
    "        else:\n",
    "            print('     TV is: Off')\n",
    "    \n",
    "\n",
    "\n",
    "oTV = TV()\n",
    "\n",
    "\n",
    "oTV.power()\n",
    "oTV.setChannel(65)\n",
    "oTV.showInfo()"
   ]
  }
 ],
 "metadata": {
  "kernelspec": {
   "display_name": "Python 3",
   "language": "python",
   "name": "python3"
  },
  "language_info": {
   "codemirror_mode": {
    "name": "ipython",
    "version": 3
   },
   "file_extension": ".py",
   "mimetype": "text/x-python",
   "name": "python",
   "nbconvert_exporter": "python",
   "pygments_lexer": "ipython3",
   "version": "3.11.9"
  }
 },
 "nbformat": 4,
 "nbformat_minor": 2
}
